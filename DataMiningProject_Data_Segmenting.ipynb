{
 "cells": [
  {
   "cell_type": "code",
   "execution_count": 1,
   "metadata": {
    "collapsed": false
   },
   "outputs": [
    {
     "name": "stderr",
     "output_type": "stream",
     "text": [
      "C:\\Anaconda2-Installation\\lib\\site-packages\\ipykernel\\__main__.py:9: SettingWithCopyWarning: \n",
      "A value is trying to be set on a copy of a slice from a DataFrame\n",
      "\n",
      "See the caveats in the documentation: http://pandas.pydata.org/pandas-docs/stable/indexing.html#indexing-view-versus-copy\n",
      "C:\\Anaconda2-Installation\\lib\\site-packages\\ipykernel\\__main__.py:10: SettingWithCopyWarning: \n",
      "A value is trying to be set on a copy of a slice from a DataFrame\n",
      "\n",
      "See the caveats in the documentation: http://pandas.pydata.org/pandas-docs/stable/indexing.html#indexing-view-versus-copy\n",
      "C:\\Anaconda2-Installation\\lib\\site-packages\\ipykernel\\__main__.py:11: SettingWithCopyWarning: \n",
      "A value is trying to be set on a copy of a slice from a DataFrame\n",
      "\n",
      "See the caveats in the documentation: http://pandas.pydata.org/pandas-docs/stable/indexing.html#indexing-view-versus-copy\n"
     ]
    }
   ],
   "source": [
    "import pandas as pd \n",
    "\n",
    "meta_Ratings_Electronics = pd.read_csv(\"D:\\\\OPIM-5671-Data Mining and Business Intelligence-SECB13-1165\\\\Project\\\\ratings_Electronics\\\\meta_Ratings_Electronics.csv\")\n",
    "\n",
    "meta_Ratings_Electronics_0_50 = meta_Ratings_Electronics[(meta_Ratings_Electronics['price'] > 0) & (meta_Ratings_Electronics['price'] <= 50)]\n",
    "meta_Ratings_Electronics_50_200 = meta_Ratings_Electronics[(meta_Ratings_Electronics['price'] > 50) & (meta_Ratings_Electronics['price'] <=200)]\n",
    "meta_Ratings_Electronics_200_Plus = meta_Ratings_Electronics[meta_Ratings_Electronics['price'] > 200]\n",
    "\n",
    "meta_Ratings_Electronics_0_50.sort_values(['price'], ascending=[True],inplace=True)\n",
    "meta_Ratings_Electronics_50_200.sort_values(['price'],ascending=[True],inplace=True)\n",
    "meta_Ratings_Electronics_200_Plus.sort_values(['price'],ascending=[True],inplace=True)\n",
    "\n",
    "meta_Ratings_Electronics_0_50.to_csv(\"D:\\\\OPIM-5671-Data Mining and Business Intelligence-SECB13-1165\\\\Project\\\\ratings_Electronics\\\\meta_Ratings_Electronics_0_50.csv\",index=False)\n",
    "meta_Ratings_Electronics_50_200.to_csv(\"D:\\\\OPIM-5671-Data Mining and Business Intelligence-SECB13-1165\\\\Project\\\\ratings_Electronics\\\\meta_Ratings_Electronics_50_200.csv\",index=False)\n",
    "meta_Ratings_Electronics_200_Plus.to_csv(\"D:\\\\OPIM-5671-Data Mining and Business Intelligence-SECB13-1165\\\\Project\\\\ratings_Electronics\\\\meta_Ratings_Electronics_200_Plus.csv\",index=False)\n",
    "\n",
    "\n",
    "meta_Ratings_Electronics_0_50_not_good = meta_Ratings_Electronics_0_50[(meta_Ratings_Electronics_0_50['rating'] == 1) | (meta_Ratings_Electronics_0_50['rating']==2)]\n",
    "meta_Ratings_Electronics_0_50_very_good = meta_Ratings_Electronics_0_50[(meta_Ratings_Electronics_0_50['rating'] == 4) | (meta_Ratings_Electronics_0_50['rating']==5)]\n",
    "\n",
    "meta_Ratings_Electronics_50_200_not_good = meta_Ratings_Electronics_50_200[(meta_Ratings_Electronics_50_200['rating'] == 1) | (meta_Ratings_Electronics_50_200['rating']==2)]\n",
    "meta_Ratings_Electronics_50_200_very_good = meta_Ratings_Electronics_50_200[(meta_Ratings_Electronics_50_200['rating'] == 4) | (meta_Ratings_Electronics_50_200['rating']==5)]\n",
    "\n",
    "meta_Ratings_Electronics_200_Plus_not_good = meta_Ratings_Electronics_200_Plus[(meta_Ratings_Electronics_200_Plus['rating'] == 1) | (meta_Ratings_Electronics_200_Plus['rating']==2)]\n",
    "meta_Ratings_Electronics_200_Plus_very_good = meta_Ratings_Electronics_200_Plus[(meta_Ratings_Electronics_200_Plus['rating'] == 4) | (meta_Ratings_Electronics_200_Plus['rating']==5)]\n",
    "\n",
    "\n",
    "meta_Ratings_Electronics_0_50_not_good.to_csv(\"D:\\\\OPIM-5671-Data Mining and Business Intelligence-SECB13-1165\\\\Project\\\\ratings_Electronics\\\\Electronics_0_50_NG.csv\",index=False)\n",
    "meta_Ratings_Electronics_0_50_very_good.to_csv(\"D:\\\\OPIM-5671-Data Mining and Business Intelligence-SECB13-1165\\\\Project\\\\ratings_Electronics\\\\Electronics_0_50_VG.csv\",index=False)\n",
    "\n",
    "\n",
    "meta_Ratings_Electronics_50_200_not_good.to_csv(\"D:\\\\OPIM-5671-Data Mining and Business Intelligence-SECB13-1165\\\\Project\\\\ratings_Electronics\\\\Electronics_50_200_NG.csv\",index=False)\n",
    "meta_Ratings_Electronics_50_200_very_good.to_csv(\"D:\\\\OPIM-5671-Data Mining and Business Intelligence-SECB13-1165\\\\Project\\\\ratings_Electronics\\\\Electronics_50_200_VG.csv\",index=False)\n",
    "\n",
    "meta_Ratings_Electronics_200_Plus_not_good.to_csv(\"D:\\\\OPIM-5671-Data Mining and Business Intelligence-SECB13-1165\\\\Project\\\\ratings_Electronics\\\\Electronics_200_plus_NG.csv\",index=False)\n",
    "meta_Ratings_Electronics_200_Plus_very_good.to_csv(\"D:\\\\OPIM-5671-Data Mining and Business Intelligence-SECB13-1165\\\\Project\\\\ratings_Electronics\\\\Electronics_200_plus_VG.csv\",index=False)\n",
    "                                        "
   ]
  },
  {
   "cell_type": "code",
   "execution_count": null,
   "metadata": {
    "collapsed": true
   },
   "outputs": [],
   "source": []
  }
 ],
 "metadata": {
  "kernelspec": {
   "display_name": "Python 2",
   "language": "python",
   "name": "python2"
  },
  "language_info": {
   "codemirror_mode": {
    "name": "ipython",
    "version": 2
   },
   "file_extension": ".py",
   "mimetype": "text/x-python",
   "name": "python",
   "nbconvert_exporter": "python",
   "pygments_lexer": "ipython2",
   "version": "2.7.11"
  }
 },
 "nbformat": 4,
 "nbformat_minor": 0
}
