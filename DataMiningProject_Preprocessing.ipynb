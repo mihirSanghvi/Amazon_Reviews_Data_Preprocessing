{
 "cells": [
  {
   "cell_type": "code",
   "execution_count": 1,
   "metadata": {
    "collapsed": false
   },
   "outputs": [],
   "source": [
    "import pandas as pd \n",
    "import numpy as np\n",
    "\n",
    "ratings_Electronics1 = pd.read_csv(\"D:\\\\OPIM-5671-Data Mining and Business Intelligence-SECB13-1165\\\\Project\\\\ratings_Electronics\\\\ratings_Electronics1.csv\")\n",
    "ratings_Electronics2 = pd.read_csv(\"D:\\\\OPIM-5671-Data Mining and Business Intelligence-SECB13-1165\\\\Project\\\\ratings_Electronics\\\\ratings_Electronics2.csv\")\n",
    "ratings_Electronics3 = pd.read_csv(\"D:\\\\OPIM-5671-Data Mining and Business Intelligence-SECB13-1165\\\\Project\\\\ratings_Electronics\\\\ratings_Electronics3.csv\")\n",
    "\n",
    "ratings_Electronics1.columns = ['reviewerID','asin','rating','unixReviewTime']\n",
    "ratings_Electronics2.columns = ['reviewerID','asin','rating','unixReviewTime']\n",
    "ratings_Electronics3.columns = ['reviewerID','asin','rating','unixReviewTime']\n",
    "\n",
    "meta_Electronics = pd.read_csv(\"D:\\\\OPIM-5671-Data Mining and Business Intelligence-SECB13-1165\\\\Project\\\\ratings_Electronics\\\\meta_Electronics.csv\")\n",
    "\n",
    "\n",
    "meta_Ratings_Electronics1 =  ratings_Electronics1.merge(meta_Electronics[['asin','price','salesRank']], left_on='asin', right_on='asin')\n",
    "meta_Ratings_Electronics2 =  ratings_Electronics2.merge(meta_Electronics[['asin','price','salesRank']], left_on='asin', right_on='asin')\n",
    "meta_Ratings_Electronics3 =  ratings_Electronics3.merge(meta_Electronics[['asin','price','salesRank']], left_on='asin', right_on='asin')\n",
    "\n",
    "\n",
    "\n",
    "\n",
    "meta_Ratings_Electronics1['salesRank'] = meta_Ratings_Electronics1['salesRank'].str.replace(r'\\{\\}$', '')\n",
    "meta_Ratings_Electronics1['salesRank'] = meta_Ratings_Electronics1['salesRank'].str.replace(r'\\{', '')\n",
    "meta_Ratings_Electronics1['salesRank'] = meta_Ratings_Electronics1['salesRank'].str.replace(r'\\}', '')\n",
    "meta_Ratings_Electronics1['salesRank'] = meta_Ratings_Electronics1['salesRank'].str.replace(r'\\'(.*)\\': ', '')\n",
    "meta_Ratings_Electronics1['salesRank'].replace('', np.nan, inplace=True)\n",
    "meta_Ratings_Electronics1.fillna(0,inplace = True)\n",
    "meta_Ratings_Electronics1['unixReviewTime'] = pd.to_datetime(meta_Ratings_Electronics1['unixReviewTime'],unit='s')\n",
    "\n",
    "\n",
    "\n",
    "meta_Ratings_Electronics2['salesRank'] = meta_Ratings_Electronics2['salesRank'].str.replace(r'\\{\\}$', '')\n",
    "meta_Ratings_Electronics2['salesRank'] = meta_Ratings_Electronics2['salesRank'].str.replace(r'\\{', '')\n",
    "meta_Ratings_Electronics2['salesRank'] = meta_Ratings_Electronics2['salesRank'].str.replace(r'\\}', '')\n",
    "meta_Ratings_Electronics2['salesRank'] = meta_Ratings_Electronics2['salesRank'].str.replace(r'\\'(.*)\\': ', '')\n",
    "meta_Ratings_Electronics2['salesRank'].replace('', np.nan, inplace=True)\n",
    "meta_Ratings_Electronics2.fillna(0,inplace = True)\n",
    "meta_Ratings_Electronics2['unixReviewTime'] = pd.to_datetime(meta_Ratings_Electronics2['unixReviewTime'],unit='s')\n",
    "\n",
    "\n",
    "\n",
    "meta_Ratings_Electronics3['salesRank'] = meta_Ratings_Electronics3['salesRank'].str.replace(r'\\{\\}$', '')\n",
    "meta_Ratings_Electronics3['salesRank'] = meta_Ratings_Electronics3['salesRank'].str.replace(r'\\{', '')\n",
    "meta_Ratings_Electronics3['salesRank'] = meta_Ratings_Electronics3['salesRank'].str.replace(r'\\}', '')\n",
    "meta_Ratings_Electronics3['salesRank'] = meta_Ratings_Electronics3['salesRank'].str.replace(r'\\'(.*)\\': ', '')\n",
    "meta_Ratings_Electronics3['salesRank'].replace('', np.nan, inplace=True)\n",
    "meta_Ratings_Electronics3.fillna(0,inplace = True)\n",
    "meta_Ratings_Electronics3['unixReviewTime'] = pd.to_datetime(meta_Ratings_Electronics3['unixReviewTime'],unit='s')\n",
    "\n",
    "\n",
    "meta_Ratings_Electronics1.columns = ['reviewerID','asin','rating','reviewDate','price','salesRank']\n",
    "meta_Ratings_Electronics2.columns = ['reviewerID','asin','rating','reviewDate','price','salesRank']\n",
    "meta_Ratings_Electronics3.columns = ['reviewerID','asin','rating','reviewDate','price','salesRank']\n",
    "\n",
    "\n",
    "meta_Ratings_Electronics1.to_csv(\"D:\\\\OPIM-5671-Data Mining and Business Intelligence-SECB13-1165\\\\Project\\\\ratings_Electronics\\\\meta_Ratings_Electronics1.csv\",index= False)\n",
    "meta_Ratings_Electronics2.to_csv(\"D:\\\\OPIM-5671-Data Mining and Business Intelligence-SECB13-1165\\\\Project\\\\ratings_Electronics\\\\meta_Ratings_Electronics2.csv\",index= False)\n",
    "meta_Ratings_Electronics3.to_csv(\"D:\\\\OPIM-5671-Data Mining and Business Intelligence-SECB13-1165\\\\Project\\\\ratings_Electronics\\\\meta_Ratings_Electronics3.csv\",index= False)\n",
    "\n",
    "\n",
    "meta_Ratings_Electronics = pd.concat([meta_Ratings_Electronics1,meta_Ratings_Electronics2,meta_Ratings_Electronics3],axis=0)\n",
    "meta_Ratings_Electronics.to_csv(\"D:\\\\OPIM-5671-Data Mining and Business Intelligence-SECB13-1165\\\\Project\\\\ratings_Electronics\\\\meta_Ratings_Electronics.csv\")"
   ]
  },
  {
   "cell_type": "code",
   "execution_count": null,
   "metadata": {
    "collapsed": true
   },
   "outputs": [],
   "source": [
    "\n"
   ]
  }
 ],
 "metadata": {
  "kernelspec": {
   "display_name": "Python 2",
   "language": "python",
   "name": "python2"
  },
  "language_info": {
   "codemirror_mode": {
    "name": "ipython",
    "version": 2
   },
   "file_extension": ".py",
   "mimetype": "text/x-python",
   "name": "python",
   "nbconvert_exporter": "python",
   "pygments_lexer": "ipython2",
   "version": "2.7.11"
  }
 },
 "nbformat": 4,
 "nbformat_minor": 0
}
